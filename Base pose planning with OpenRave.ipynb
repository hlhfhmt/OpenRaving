{
 "metadata": {
  "name": "Base pose planning with OpenRave"
 },
 "nbformat": 3,
 "nbformat_minor": 0,
 "worksheets": [
  {
   "cells": [
    {
     "cell_type": "code",
     "collapsed": false,
     "input": "import openravepy; \nimport numpy as np\nenv = openravepy.Environment()\nenv.SetViewer('qtcoin')\nenv.Load('data/pr2test2.env.xml');",
     "language": "python",
     "metadata": {},
     "outputs": [
      {
       "output_type": "pyout",
       "prompt_number": 1,
       "text": "True"
      }
     ],
     "prompt_number": 1
    },
    {
     "cell_type": "raw",
     "metadata": {},
     "source": "This code assumes you have downloaded the helping routines from https://github.com/lorenzoriano/OpenRaving"
    },
    {
     "cell_type": "code",
     "collapsed": false,
     "input": "%cd /home/pezzotto/Projects/OpenRaving\nimport generate_reaching_poses; \nimport utils\nrobot = env.GetRobots()[0]; manip = robot.SetActiveManipulator('rightarm')\nobj = env.GetKinBody('TibitsBox1')\ntable = env.GetKinBody('Table1')",
     "language": "python",
     "metadata": {},
     "outputs": [
      {
       "output_type": "stream",
       "stream": "stdout",
       "text": "/home/pezzotto/Projects/OpenRaving\n"
      }
     ],
     "prompt_number": 5
    },
    {
     "cell_type": "code",
     "collapsed": false,
     "input": "utils.pr2_tuck_arm(robot)",
     "language": "python",
     "metadata": {},
     "outputs": [],
     "prompt_number": 6
    },
    {
     "cell_type": "code",
     "collapsed": false,
     "input": "pose, sol, torso = generate_reaching_poses.get_collision_free_grasping_pose(robot, obj, 300, use_general_grasps=False)\nimport navigation; planner = navigation.SimpleNavigationPlanning(robot)\nplanner.performNavigationPlanning(pose, execute=True)\nrobot.GetController().Reset()",
     "language": "python",
     "metadata": {},
     "outputs": [],
     "prompt_number": 7
    },
    {
     "cell_type": "code",
     "collapsed": false,
     "input": "robot.SetTransform(pose)\nrobot.SetDOFValues([torso], [robot.GetJointIndex('torso_lift_joint')],)",
     "language": "python",
     "metadata": {},
     "outputs": [],
     "prompt_number": 8
    },
    {
     "cell_type": "code",
     "collapsed": false,
     "input": "mplanner = openravepy.interfaces.BaseManipulation(robot)\nrobot.SetActiveDOFs(manip.GetArmIndices()); \nmplanner.MoveActiveJoints(sol)\nrobot.GetController().Reset()\nrobot.Grab(obj)\nutils.pr2_tuck_arm(robot)",
     "language": "python",
     "metadata": {},
     "outputs": [],
     "prompt_number": 10
    },
    {
     "cell_type": "code",
     "collapsed": false,
     "input": "pose, sol, torso = generate_reaching_poses.get_collision_free_surface_pose(robot, table, 100)\nrobot.SetTransform(pose)\nrobot.SetDOFValues(sol, robot.GetActiveManipulator().GetArmIndices())\nrobot.SetDOFValues([torso], [robot.GetJointIndex('torso_lift_joint')],)\nrobot.Release(obj)\nutils.pr2_tuck_arm(robot)",
     "language": "python",
     "metadata": {},
     "outputs": []
    }
   ],
   "metadata": {}
  }
 ]
}